{
 "cells": [
  {
   "cell_type": "markdown",
   "metadata": {
    "collapsed": true
   },
   "source": [
    "# Analyzing Mobile App Data\n",
    "\n",
    "The goal of this project is to find app profiles in Google Play and Apple Store that are profitable. Let's imagine that I'm making this analysis for a company that builds Android and iOS mobile apps, and my job is to enable the team of developers to make data-driven decisions with respect to the kind of apps they build. I will focus on free apps, where the main source of revenue is from in app ads. I will analyze data to understand what kind of free apps attract the most users, generate the most revenue.\n",
    "\n",
    "I work with two data sources:\n",
    "\n",
    "1.) A dataset about approx. 10,000 Android apps from Google Play: [link](https://dq-content.s3.amazonaws.com/350/googleplaystore.csv)\n",
    "\n",
    "2.) A dataset about approx. 7,000 iOS apps from the App Store: [link](https://dq-content.s3.amazonaws.com/350/AppleStore.csv)\n",
    "\n",
    "# Opening and Exploring Data\n",
    "\n",
    "I start by opening the data sources:"
   ]
  },
  {
   "cell_type": "code",
   "execution_count": 2,
   "metadata": {
    "collapsed": true
   },
   "outputs": [],
   "source": [
    "from csv import reader\n",
    "\n",
    "## Open IOS data\n",
    "opened_file = open('AppleStore.csv')\n",
    "read_file = reader(opened_file)\n",
    "ios = list(read_file)\n",
    "ios_header = ios[0]\n",
    "ios = ios[1:]\n",
    "\n",
    "## Open Android data\n",
    "opened_file = open('googleplaystore.csv')\n",
    "read_file = reader(opened_file)\n",
    "android = list(read_file)\n",
    "android_header = android[0]\n",
    "android = android[1:]"
   ]
  },
  {
   "cell_type": "markdown",
   "metadata": {},
   "source": [
    "To make it easier to explore the dataset, I defined a function named `explore_data()` that prints the rows in a readable way and tells the number of rows and columns."
   ]
  },
  {
   "cell_type": "code",
   "execution_count": 3,
   "metadata": {
    "collapsed": true
   },
   "outputs": [],
   "source": [
    "def explore_data(dataset, start, end, rows_and_columns=False):\n",
    "    dataset_slice = dataset[start:end]    \n",
    "    for row in dataset_slice:\n",
    "        print(row)\n",
    "        print('\\n') # adds a new (empty) line after each row\n",
    "\n",
    "    if rows_and_columns:\n",
    "        print('Number of rows:', len(dataset))\n",
    "        print('Number of columns:', len(dataset[0]))"
   ]
  },
  {
   "cell_type": "code",
   "execution_count": 4,
   "metadata": {
    "collapsed": false
   },
   "outputs": [
    {
     "name": "stdout",
     "output_type": "stream",
     "text": [
      "['id', 'track_name', 'size_bytes', 'currency', 'price', 'rating_count_tot', 'rating_count_ver', 'user_rating', 'user_rating_ver', 'ver', 'cont_rating', 'prime_genre', 'sup_devices.num', 'ipadSc_urls.num', 'lang.num', 'vpp_lic']\n",
      "\n",
      "\n",
      "['284882215', 'Facebook', '389879808', 'USD', '0.0', '2974676', '212', '3.5', '3.5', '95.0', '4+', 'Social Networking', '37', '1', '29', '1']\n",
      "\n",
      "\n",
      "['389801252', 'Instagram', '113954816', 'USD', '0.0', '2161558', '1289', '4.5', '4.0', '10.23', '12+', 'Photo & Video', '37', '0', '29', '1']\n",
      "\n",
      "\n",
      "['529479190', 'Clash of Clans', '116476928', 'USD', '0.0', '2130805', '579', '4.5', '4.5', '9.24.12', '9+', 'Games', '38', '5', '18', '1']\n",
      "\n",
      "\n",
      "['420009108', 'Temple Run', '65921024', 'USD', '0.0', '1724546', '3842', '4.5', '4.0', '1.6.2', '9+', 'Games', '40', '5', '1', '1']\n",
      "\n",
      "\n",
      "['284035177', 'Pandora - Music & Radio', '130242560', 'USD', '0.0', '1126879', '3594', '4.0', '4.5', '8.4.1', '12+', 'Music', '37', '4', '1', '1']\n",
      "\n",
      "\n",
      "Number of rows: 7197\n",
      "Number of columns: 16\n"
     ]
    }
   ],
   "source": [
    "print(ios_header)\n",
    "print('\\n')\n",
    "explore_data(ios, 0, 5, True)"
   ]
  },
  {
   "cell_type": "markdown",
   "metadata": {},
   "source": [
    "We have 7197 rows in the iOS dataset and the columns that seem useful are: 'track_name', 'price', 'rating_count_tot' and 'prime_genre'. Not all the column names are self-explanatory, the documentation can be found [here](https://www.kaggle.com/ramamet4/app-store-apple-data-set-10k-apps)."
   ]
  },
  {
   "cell_type": "code",
   "execution_count": 5,
   "metadata": {
    "collapsed": false
   },
   "outputs": [
    {
     "name": "stdout",
     "output_type": "stream",
     "text": [
      "['App', 'Category', 'Rating', 'Reviews', 'Size', 'Installs', 'Type', 'Price', 'Content Rating', 'Genres', 'Last Updated', 'Current Ver', 'Android Ver']\n",
      "\n",
      "\n",
      "['Photo Editor & Candy Camera & Grid & ScrapBook', 'ART_AND_DESIGN', '4.1', '159', '19M', '10,000+', 'Free', '0', 'Everyone', 'Art & Design', 'January 7, 2018', '1.0.0', '4.0.3 and up']\n",
      "\n",
      "\n",
      "['Coloring book moana', 'ART_AND_DESIGN', '3.9', '967', '14M', '500,000+', 'Free', '0', 'Everyone', 'Art & Design;Pretend Play', 'January 15, 2018', '2.0.0', '4.0.3 and up']\n",
      "\n",
      "\n",
      "['U Launcher Lite – FREE Live Cool Themes, Hide Apps', 'ART_AND_DESIGN', '4.7', '87510', '8.7M', '5,000,000+', 'Free', '0', 'Everyone', 'Art & Design', 'August 1, 2018', '1.2.4', '4.0.3 and up']\n",
      "\n",
      "\n",
      "['Sketch - Draw & Paint', 'ART_AND_DESIGN', '4.5', '215644', '25M', '50,000,000+', 'Free', '0', 'Teen', 'Art & Design', 'June 8, 2018', 'Varies with device', '4.2 and up']\n",
      "\n",
      "\n",
      "['Pixel Draw - Number Art Coloring Book', 'ART_AND_DESIGN', '4.3', '967', '2.8M', '100,000+', 'Free', '0', 'Everyone', 'Art & Design;Creativity', 'June 20, 2018', '1.1', '4.4 and up']\n",
      "\n",
      "\n",
      "Number of rows: 10841\n",
      "Number of columns: 13\n"
     ]
    }
   ],
   "source": [
    "print(android_header)\n",
    "print('\\n')\n",
    "explore_data(android, 0, 5, True)"
   ]
  },
  {
   "cell_type": "markdown",
   "metadata": {},
   "source": [
    "There are 10,841 rows in the Android dataset, from which 'App', 'Category', 'Reviews', 'Installs' seems useful for our analysis. The documentation for the column names can be found [here](https://www.kaggle.com/lava18/google-play-store-apps).\n",
    "\n",
    "# Deleting Wrong Data\n",
    "\n",
    "The Google Play data set has a dedicated [discussion](https://www.kaggle.com/lava18/google-play-store-apps/discussion/66015) section, and we can see that one of the discussions outlines an error for row 10472. Let's print this row and compare it against the header and another row that is correct."
   ]
  },
  {
   "cell_type": "code",
   "execution_count": 6,
   "metadata": {
    "collapsed": false
   },
   "outputs": [
    {
     "name": "stdout",
     "output_type": "stream",
     "text": [
      "['Life Made WI-Fi Touchscreen Photo Frame', '1.9', '19', '3.0M', '1,000+', 'Free', '0', 'Everyone', '', 'February 11, 2018', '1.0.19', '4.0 and up']\n",
      "\n",
      "\n",
      "['App', 'Category', 'Rating', 'Reviews', 'Size', 'Installs', 'Type', 'Price', 'Content Rating', 'Genres', 'Last Updated', 'Current Ver', 'Android Ver']\n",
      "\n",
      "\n",
      "['Photo Editor & Candy Camera & Grid & ScrapBook', 'ART_AND_DESIGN', '4.1', '159', '19M', '10,000+', 'Free', '0', 'Everyone', 'Art & Design', 'January 7, 2018', '1.0.0', '4.0.3 and up']\n"
     ]
    }
   ],
   "source": [
    "print(android[10472]) # incorrect row\n",
    "print('\\n')\n",
    "print(android_header) # header\n",
    "print('\\n')\n",
    "print(android[0]) # correct row"
   ]
  },
  {
   "cell_type": "markdown",
   "metadata": {},
   "source": [
    "After printing these 3 rows, we can see that the 'Category' data is missing from row 10472 and the user rating is 19, even though the maximum rating at Google Store is 5. Let's remove the row."
   ]
  },
  {
   "cell_type": "code",
   "execution_count": 7,
   "metadata": {
    "collapsed": false
   },
   "outputs": [
    {
     "name": "stdout",
     "output_type": "stream",
     "text": [
      "10841\n",
      "10840\n"
     ]
    }
   ],
   "source": [
    "print(len(android))\n",
    "del android[10472]\n",
    "print(len(android))"
   ]
  },
  {
   "cell_type": "markdown",
   "metadata": {},
   "source": [
    "# Removing Duplicates\n",
    "\n",
    "If we explore the Google Play dataset long enough and check the [discussion](https://www.kaggle.com/lava18/google-play-store-apps/discussion), we can notice that there are some duplicates. For example, Instagram has 4 entries:"
   ]
  },
  {
   "cell_type": "code",
   "execution_count": 8,
   "metadata": {
    "collapsed": false
   },
   "outputs": [
    {
     "name": "stdout",
     "output_type": "stream",
     "text": [
      "['Instagram', 'SOCIAL', '4.5', '66577313', 'Varies with device', '1,000,000,000+', 'Free', '0', 'Teen', 'Social', 'July 31, 2018', 'Varies with device', 'Varies with device']\n",
      "['Instagram', 'SOCIAL', '4.5', '66577446', 'Varies with device', '1,000,000,000+', 'Free', '0', 'Teen', 'Social', 'July 31, 2018', 'Varies with device', 'Varies with device']\n",
      "['Instagram', 'SOCIAL', '4.5', '66577313', 'Varies with device', '1,000,000,000+', 'Free', '0', 'Teen', 'Social', 'July 31, 2018', 'Varies with device', 'Varies with device']\n",
      "['Instagram', 'SOCIAL', '4.5', '66509917', 'Varies with device', '1,000,000,000+', 'Free', '0', 'Teen', 'Social', 'July 31, 2018', 'Varies with device', 'Varies with device']\n"
     ]
    }
   ],
   "source": [
    "for app in android:\n",
    "    name = app[0]\n",
    "    if name == 'Instagram':\n",
    "        print(app)"
   ]
  },
  {
   "cell_type": "markdown",
   "metadata": {},
   "source": [
    "To find all the duplicate entries, I created two lists: one for storing the name of the duplicate apps and one for storing the name of the unique apps."
   ]
  },
  {
   "cell_type": "code",
   "execution_count": 9,
   "metadata": {
    "collapsed": false
   },
   "outputs": [
    {
     "name": "stdout",
     "output_type": "stream",
     "text": [
      "Number of duplicate apps: 1181\n",
      "Examples of duplicate apps: ['Quick PDF Scanner + OCR FREE', 'Box', 'Google My Business', 'ZOOM Cloud Meetings', 'join.me - Simple Meetings', 'Box', 'Zenefits', 'Google Ads', 'Google My Business', 'Slack']\n"
     ]
    }
   ],
   "source": [
    "duplicate_apps = []\n",
    "unique_apps = []\n",
    "\n",
    "for app in android:\n",
    "    name = app[0]\n",
    "    if name in unique_apps:\n",
    "        duplicate_apps.append(name)\n",
    "    else:\n",
    "        unique_apps.append(name)\n",
    "        \n",
    "print('Number of duplicate apps:', len(duplicate_apps))\n",
    "print('Examples of duplicate apps:', duplicate_apps[:10])"
   ]
  },
  {
   "cell_type": "markdown",
   "metadata": {},
   "source": [
    "There are 1181 cases where an app occurs more than once. We don't want to count with the same apps more than once when analyzing the data, so we need to remove the duplicate entries.\n",
    "\n",
    "If we examine the difference between the Instagram entries above, we notice that the main difference is the number of reviews in the 'Review' row. By keeping the entry which has the highest number of reviews, we can make sure that we will work with the most recent data.\n",
    "\n",
    "I will create an empty dictionary where the keys are the app names and the values are the number of reviews. I will loop through every row and check whether the app name already exists in the dictionary. If it exists and the number of reviews are higher, then I will update the dictionary with the number of reviews for that entry. Otherwise, if the app name is not yet in the dictionary, I will just create a new entry."
   ]
  },
  {
   "cell_type": "code",
   "execution_count": 10,
   "metadata": {
    "collapsed": false
   },
   "outputs": [],
   "source": [
    "reviews_max = {} # Create an empty dictionary\n",
    "\n",
    "for app in android:\n",
    "    name = app[0] # assign the app name to a variable\n",
    "    n_reviews = float(app[3]) # convert the number of reviews to float and assingn it to a variable\n",
    "    \n",
    "\n",
    "    if name in reviews_max and reviews_max[name] < n_reviews:\n",
    "        reviews_max[name] = n_reviews\n",
    "    elif name not in reviews_max:\n",
    "        reviews_max[name] = n_reviews"
   ]
  },
  {
   "cell_type": "markdown",
   "metadata": {},
   "source": [
    "To make sure the code worked as expected, let's check the length of the dictionary, it should be 1181 less than the length of the original dataset."
   ]
  },
  {
   "cell_type": "code",
   "execution_count": 11,
   "metadata": {
    "collapsed": false
   },
   "outputs": [
    {
     "name": "stdout",
     "output_type": "stream",
     "text": [
      "Expected length: 9659\n",
      "Dictionary length: 9659\n"
     ]
    }
   ],
   "source": [
    "print('Expected length:', len(android) - 1181)\n",
    "print('Dictionary length:', len(reviews_max))"
   ]
  },
  {
   "cell_type": "markdown",
   "metadata": {},
   "source": [
    "To remove duplicate rows: \n",
    "\n",
    "* I created 2 empty lists: one to store the new, cleaned dataset, and another one to store the app names,\n",
    "* I assigned the app names and the number of reviews to variables,\n",
    "* I added the current row (`app`) to the `android_clean` list and the app name (`name`) to the `already_added` list if the number of reviews of the app matches the number of reviews in the `reviews_max` dictionary, and the name of the app is not already in the `already_added` list.\n",
    "\n",
    "I added this extra condition because in some cases, the highest number of reviews are the same for more than one entries among the duplicate apps. If we only use the first condition, we will still end up with duplicate apps."
   ]
  },
  {
   "cell_type": "code",
   "execution_count": 12,
   "metadata": {
    "collapsed": false
   },
   "outputs": [],
   "source": [
    "android_clean = [] # list to store the new cleaned dataset\n",
    "already_added = [] # list to store app names\n",
    "\n",
    "for app in android:\n",
    "    name = app[0] #assign the name of the app to a variable\n",
    "    n_reviews = float(app[3]) #assign the number of reviews to a variable\n",
    "    if (n_reviews == reviews_max[name]) and (name not in already_added):\n",
    "        android_clean.append(app)\n",
    "        already_added.append(name)"
   ]
  },
  {
   "cell_type": "markdown",
   "metadata": {},
   "source": [
    "Let's explore the new dataset with the previously defined `explore_data` function and check if the number of rows are 9,659 (10,840-1,181)"
   ]
  },
  {
   "cell_type": "code",
   "execution_count": 13,
   "metadata": {
    "collapsed": false
   },
   "outputs": [
    {
     "name": "stdout",
     "output_type": "stream",
     "text": [
      "['Photo Editor & Candy Camera & Grid & ScrapBook', 'ART_AND_DESIGN', '4.1', '159', '19M', '10,000+', 'Free', '0', 'Everyone', 'Art & Design', 'January 7, 2018', '1.0.0', '4.0.3 and up']\n",
      "\n",
      "\n",
      "['U Launcher Lite – FREE Live Cool Themes, Hide Apps', 'ART_AND_DESIGN', '4.7', '87510', '8.7M', '5,000,000+', 'Free', '0', 'Everyone', 'Art & Design', 'August 1, 2018', '1.2.4', '4.0.3 and up']\n",
      "\n",
      "\n",
      "['Sketch - Draw & Paint', 'ART_AND_DESIGN', '4.5', '215644', '25M', '50,000,000+', 'Free', '0', 'Teen', 'Art & Design', 'June 8, 2018', 'Varies with device', '4.2 and up']\n",
      "\n",
      "\n",
      "Number of rows: 9659\n",
      "Number of columns: 13\n"
     ]
    }
   ],
   "source": [
    "explore_data(android_clean, 0, 3, True)"
   ]
  },
  {
   "cell_type": "markdown",
   "metadata": {},
   "source": [
    "# Removing Non-English Apps\n",
    "\n",
    "There are some apps in both datasets that are not directed toward English-speaking audience based on their names. We'll remove those from the analysis.\n",
    "\n",
    "All the English characters are encoded using the ASCII standard. Each ASCII character has a corresponding number between 0 to 127. We will take advantage of this, using the `ord()` built-in function to find out the corresponding encoding number of each character in the app names."
   ]
  },
  {
   "cell_type": "code",
   "execution_count": 14,
   "metadata": {
    "collapsed": false
   },
   "outputs": [
    {
     "name": "stdout",
     "output_type": "stream",
     "text": [
      "False\n",
      "True\n",
      "False\n",
      "False\n"
     ]
    }
   ],
   "source": [
    "def is_english(string):\n",
    "    for character in string:\n",
    "        if ord(character) > 127:\n",
    "            return False\n",
    "    return True\n",
    "\n",
    "print(is_english('爱奇艺PPS -《欢乐颂2》电视剧热播'))\n",
    "print(is_english('Instagram'))\n",
    "print(is_english('Instachat 😜'))\n",
    "print(is_english('Docs To Go™ Free Office Suite'))"
   ]
  },
  {
   "cell_type": "markdown",
   "metadata": {},
   "source": [
    "The new function works fine, however some of the English app names use emojis and symbols that fall outside of the ASCII range. The function in its current form would remove useful apps. To minimize the data loss, I'll only remove an app if its name has more than 3 non-ASCII characters."
   ]
  },
  {
   "cell_type": "code",
   "execution_count": 15,
   "metadata": {
    "collapsed": true
   },
   "outputs": [],
   "source": [
    "def is_english(string):\n",
    "    non_ascii = 0\n",
    "    \n",
    "    for character in string:\n",
    "        if ord(character) > 127:\n",
    "            non_ascii += 1\n",
    "    if non_ascii > 3:\n",
    "        return False\n",
    "    else:\n",
    "        return True"
   ]
  },
  {
   "cell_type": "markdown",
   "metadata": {},
   "source": [
    "Let's test the new function on a few examples:"
   ]
  },
  {
   "cell_type": "code",
   "execution_count": 16,
   "metadata": {
    "collapsed": false
   },
   "outputs": [
    {
     "name": "stdout",
     "output_type": "stream",
     "text": [
      "True\n",
      "True\n"
     ]
    }
   ],
   "source": [
    "print(is_english('Docs To Go™ Free Office Suite'))\n",
    "print(is_english('Instachat 😜'))"
   ]
  },
  {
   "cell_type": "markdown",
   "metadata": {},
   "source": [
    "The function is good enough for this analysis, let's filter out the non-English apps for both datasets."
   ]
  },
  {
   "cell_type": "code",
   "execution_count": 17,
   "metadata": {
    "collapsed": false
   },
   "outputs": [
    {
     "name": "stdout",
     "output_type": "stream",
     "text": [
      "['Photo Editor & Candy Camera & Grid & ScrapBook', 'ART_AND_DESIGN', '4.1', '159', '19M', '10,000+', 'Free', '0', 'Everyone', 'Art & Design', 'January 7, 2018', '1.0.0', '4.0.3 and up']\n",
      "\n",
      "\n",
      "['U Launcher Lite – FREE Live Cool Themes, Hide Apps', 'ART_AND_DESIGN', '4.7', '87510', '8.7M', '5,000,000+', 'Free', '0', 'Everyone', 'Art & Design', 'August 1, 2018', '1.2.4', '4.0.3 and up']\n",
      "\n",
      "\n",
      "['Sketch - Draw & Paint', 'ART_AND_DESIGN', '4.5', '215644', '25M', '50,000,000+', 'Free', '0', 'Teen', 'Art & Design', 'June 8, 2018', 'Varies with device', '4.2 and up']\n",
      "\n",
      "\n",
      "Number of rows: 9614\n",
      "Number of columns: 13\n",
      "\n",
      "\n",
      "['284882215', 'Facebook', '389879808', 'USD', '0.0', '2974676', '212', '3.5', '3.5', '95.0', '4+', 'Social Networking', '37', '1', '29', '1']\n",
      "\n",
      "\n",
      "['389801252', 'Instagram', '113954816', 'USD', '0.0', '2161558', '1289', '4.5', '4.0', '10.23', '12+', 'Photo & Video', '37', '0', '29', '1']\n",
      "\n",
      "\n",
      "['529479190', 'Clash of Clans', '116476928', 'USD', '0.0', '2130805', '579', '4.5', '4.5', '9.24.12', '9+', 'Games', '38', '5', '18', '1']\n",
      "\n",
      "\n",
      "Number of rows: 6183\n",
      "Number of columns: 16\n"
     ]
    }
   ],
   "source": [
    "android_english = []\n",
    "ios_english = []\n",
    "\n",
    "for app in android_clean:\n",
    "    name = app[0]\n",
    "    \n",
    "    is_english(name)\n",
    "    if is_english(name):\n",
    "        android_english.append(app)\n",
    "        \n",
    "for app in ios:\n",
    "    name = app[1]\n",
    "    \n",
    "    is_english(name)\n",
    "    if is_english(name):\n",
    "        ios_english.append(app)\n",
    "        \n",
    "explore_data(android_english, 0, 3, True)\n",
    "print('\\n')\n",
    "explore_data(ios_english, 0, 3, True)"
   ]
  },
  {
   "cell_type": "markdown",
   "metadata": {
    "collapsed": true
   },
   "source": [
    "After removing the non-English apps, we are left with 9,614 Android apps and 6,183 IOS apps.\n",
    "\n",
    "# Isolating the free apps\n",
    "\n",
    "So far in the data cleaning process, I:\n",
    "* removed innacurate data,\n",
    "* removed duplicate entries,\n",
    "* removed non-English apps.\n",
    "\n",
    "As I mentioned in the introduction, this analysis focuses on free apps only where the main source of revenue is from in-app ads. As a next step, I will isolate the free apps."
   ]
  },
  {
   "cell_type": "code",
   "execution_count": 18,
   "metadata": {
    "collapsed": false
   },
   "outputs": [
    {
     "name": "stdout",
     "output_type": "stream",
     "text": [
      "8864\n",
      "3222\n"
     ]
    }
   ],
   "source": [
    "android_final = []\n",
    "ios_final = []\n",
    "\n",
    "for app in android_english:\n",
    "    app_price = app[7]\n",
    "    if app_price == '0':\n",
    "        android_final.append(app)\n",
    "        \n",
    "for app in ios_english:\n",
    "    app_price = app[4]\n",
    "    if app_price == '0.0':\n",
    "        ios_final.append(app)\n",
    "        \n",
    "print(len(android_final))\n",
    "print(len(ios_final))"
   ]
  },
  {
   "cell_type": "markdown",
   "metadata": {},
   "source": [
    "After cleaning the dataset, we have 8,864 Android apps and 3,222 IOS apps for analysis.\n",
    "\n",
    "# Most common apps by genre\n",
    "\n",
    "To repeat the aim of the project: I am trying to determine the kinds of apps that are likely to attract more users because the revenue is highly influenced by the number of people using the apps.\n",
    "\n",
    "At our imaginary company, we want to minimize risks and overhead so the way we validate the app ideas is the following:\n",
    "\n",
    "1. Build a minimal Android version of the app, and add it to Google Play\n",
    "2. If the app has a good response from users, we develop it further\n",
    "3. If the app is profitable after 6 months, we build and IOS version of the app and add it to the App Store.\n",
    "\n",
    "Because the end goal is to have the app on both Google Play and App Store, I will need to find the app profiles that are successful on both market. I will begin my analysis by understanding the most common genres for each market. For this, I'll build frequency tables for the `prime_genre` column of the App Store dataset and for the `Genres` and `Category` columns of the Google Play dataset.\n",
    "\n",
    "I start by defining two new functions:\n",
    "1. to generate frequency tables for any column and show percentages (`freq_table`)\n",
    "2. to transform the frequency table into a list of tuples and sort the list in a descending order (`display_table`)"
   ]
  },
  {
   "cell_type": "code",
   "execution_count": 19,
   "metadata": {
    "collapsed": true
   },
   "outputs": [],
   "source": [
    "def freq_table(dataset, index):\n",
    "    table = {}\n",
    "    total = 0\n",
    "    \n",
    "    for row in dataset:\n",
    "        total += 1\n",
    "        value = row[index]\n",
    "        if value in table:\n",
    "            table[value] += 1\n",
    "        else:\n",
    "            table[value] = 1\n",
    "            \n",
    "    table_percentages = {}\n",
    "    for key in table:\n",
    "        percentage = (table[key] / total) * 100\n",
    "        table_percentages[key] = percentage \n",
    "    \n",
    "    return table_percentages\n",
    "            \n",
    "def display_table(dataset, index):\n",
    "    table = freq_table(dataset, index)\n",
    "    table_display = []\n",
    "    for key in table:\n",
    "        key_val_as_tuple = (table[key], key)\n",
    "        table_display.append(key_val_as_tuple)\n",
    "\n",
    "    table_sorted = sorted(table_display, reverse = True)\n",
    "    for entry in table_sorted:\n",
    "        print(entry[1], ':', entry[0])"
   ]
  },
  {
   "cell_type": "markdown",
   "metadata": {},
   "source": [
    "Let's use the new function on the columns `prime_genre`, `Genres` and `Category`."
   ]
  },
  {
   "cell_type": "code",
   "execution_count": 20,
   "metadata": {
    "collapsed": false
   },
   "outputs": [
    {
     "name": "stdout",
     "output_type": "stream",
     "text": [
      "Games : 58.16263190564867\n",
      "Entertainment : 7.883302296710118\n",
      "Photo & Video : 4.9658597144630665\n",
      "Education : 3.662321539416512\n",
      "Social Networking : 3.2898820608317814\n",
      "Shopping : 2.60707635009311\n",
      "Utilities : 2.5139664804469275\n",
      "Sports : 2.1415270018621975\n",
      "Music : 2.0484171322160147\n",
      "Health & Fitness : 2.0173805090006205\n",
      "Productivity : 1.7380509000620732\n",
      "Lifestyle : 1.5828677839851024\n",
      "News : 1.3345747982619491\n",
      "Travel : 1.2414649286157666\n",
      "Finance : 1.1173184357541899\n",
      "Weather : 0.8690254500310366\n",
      "Food & Drink : 0.8069522036002483\n",
      "Reference : 0.5586592178770949\n",
      "Business : 0.5276225946617008\n",
      "Book : 0.4345127250155183\n",
      "Navigation : 0.186219739292365\n",
      "Medical : 0.186219739292365\n",
      "Catalogs : 0.12414649286157665\n"
     ]
    }
   ],
   "source": [
    "display_table(ios_final, 11) # prime genre column"
   ]
  },
  {
   "cell_type": "markdown",
   "metadata": {},
   "source": [
    "We can see that among the non-English IOS apps, more than half of the apps are Games (58.16%). The second most frequent genre is Entertainment with less than 8% (7.88%), followed by Photo & Video with 4.97%. Only 3.66% is Education related followed by Social Networking with 3.29%.\n",
    "\n",
    "Overall, we can see that the \"fun\" apps are dominating (games, entertainment, photo & video, social networking, sports, music etc.) however it doesn't mean that they are the most popular among the users.\n",
    "\n",
    "Let's see what we can learn from the Google Play data."
   ]
  },
  {
   "cell_type": "code",
   "execution_count": 21,
   "metadata": {
    "collapsed": false
   },
   "outputs": [
    {
     "name": "stdout",
     "output_type": "stream",
     "text": [
      "FAMILY : 18.907942238267147\n",
      "GAME : 9.724729241877256\n",
      "TOOLS : 8.461191335740072\n",
      "BUSINESS : 4.591606498194946\n",
      "LIFESTYLE : 3.9034296028880866\n",
      "PRODUCTIVITY : 3.892148014440433\n",
      "FINANCE : 3.7003610108303246\n",
      "MEDICAL : 3.531137184115524\n",
      "SPORTS : 3.395758122743682\n",
      "PERSONALIZATION : 3.3167870036101084\n",
      "COMMUNICATION : 3.2378158844765346\n",
      "HEALTH_AND_FITNESS : 3.0798736462093865\n",
      "PHOTOGRAPHY : 2.944494584837545\n",
      "NEWS_AND_MAGAZINES : 2.7978339350180503\n",
      "SOCIAL : 2.6624548736462095\n",
      "TRAVEL_AND_LOCAL : 2.33528880866426\n",
      "SHOPPING : 2.2450361010830324\n",
      "BOOKS_AND_REFERENCE : 2.1435018050541514\n",
      "DATING : 1.861462093862816\n",
      "VIDEO_PLAYERS : 1.7937725631768955\n",
      "MAPS_AND_NAVIGATION : 1.3989169675090252\n",
      "FOOD_AND_DRINK : 1.2409747292418771\n",
      "EDUCATION : 1.1620036101083033\n",
      "ENTERTAINMENT : 0.9589350180505415\n",
      "LIBRARIES_AND_DEMO : 0.9363718411552346\n",
      "AUTO_AND_VEHICLES : 0.9250902527075812\n",
      "HOUSE_AND_HOME : 0.8235559566787004\n",
      "WEATHER : 0.8009927797833934\n",
      "EVENTS : 0.7107400722021661\n",
      "PARENTING : 0.6543321299638989\n",
      "ART_AND_DESIGN : 0.6430505415162455\n",
      "COMICS : 0.6204873646209386\n",
      "BEAUTY : 0.5979241877256317\n"
     ]
    }
   ],
   "source": [
    "display_table(android_final, 1) # Category column"
   ]
  },
  {
   "cell_type": "markdown",
   "metadata": {},
   "source": [
    "Interestingly, the Google Play `Category` data  is significantly different: the majority of the apps are designed for practical purposes (family, tools, business, lifestyle, productivity, etc.), although games are still the second most frequent category with 9.72%.\n",
    "\n",
    "However, if we check the Family category (18.9%) at [Google Play](https://play.google.com/store/apps/category/FAMILY?hl=en), we can see that it consists of games for kids mostly.\n",
    "\n",
    "Overall, it's a more balanced mix of fun and practical apps than we saw in the App Store.\n",
    "\n",
    "Let's see the `Genres` column now."
   ]
  },
  {
   "cell_type": "code",
   "execution_count": 22,
   "metadata": {
    "collapsed": false
   },
   "outputs": [
    {
     "name": "stdout",
     "output_type": "stream",
     "text": [
      "Tools : 8.449909747292418\n",
      "Entertainment : 6.069494584837545\n",
      "Education : 5.347472924187725\n",
      "Business : 4.591606498194946\n",
      "Productivity : 3.892148014440433\n",
      "Lifestyle : 3.892148014440433\n",
      "Finance : 3.7003610108303246\n",
      "Medical : 3.531137184115524\n",
      "Sports : 3.463447653429603\n",
      "Personalization : 3.3167870036101084\n",
      "Communication : 3.2378158844765346\n",
      "Action : 3.1024368231046933\n",
      "Health & Fitness : 3.0798736462093865\n",
      "Photography : 2.944494584837545\n",
      "News & Magazines : 2.7978339350180503\n",
      "Social : 2.6624548736462095\n",
      "Travel & Local : 2.3240072202166067\n",
      "Shopping : 2.2450361010830324\n",
      "Books & Reference : 2.1435018050541514\n",
      "Simulation : 2.0419675090252705\n",
      "Dating : 1.861462093862816\n",
      "Arcade : 1.8501805054151623\n",
      "Video Players & Editors : 1.7712093862815883\n",
      "Casual : 1.7599277978339352\n",
      "Maps & Navigation : 1.3989169675090252\n",
      "Food & Drink : 1.2409747292418771\n",
      "Puzzle : 1.128158844765343\n",
      "Racing : 0.9927797833935018\n",
      "Role Playing : 0.9363718411552346\n",
      "Libraries & Demo : 0.9363718411552346\n",
      "Auto & Vehicles : 0.9250902527075812\n",
      "Strategy : 0.9138086642599278\n",
      "House & Home : 0.8235559566787004\n",
      "Weather : 0.8009927797833934\n",
      "Events : 0.7107400722021661\n",
      "Adventure : 0.6768953068592057\n",
      "Comics : 0.6092057761732852\n",
      "Beauty : 0.5979241877256317\n",
      "Art & Design : 0.5979241877256317\n",
      "Parenting : 0.4963898916967509\n",
      "Card : 0.45126353790613716\n",
      "Casino : 0.42870036101083037\n",
      "Trivia : 0.41741877256317694\n",
      "Educational;Education : 0.39485559566787\n",
      "Board : 0.3835740072202166\n",
      "Educational : 0.3722924187725632\n",
      "Education;Education : 0.33844765342960287\n",
      "Word : 0.2594765342960289\n",
      "Casual;Pretend Play : 0.236913357400722\n",
      "Music : 0.2030685920577617\n",
      "Racing;Action & Adventure : 0.16922382671480143\n",
      "Puzzle;Brain Games : 0.16922382671480143\n",
      "Entertainment;Music & Video : 0.16922382671480143\n",
      "Casual;Brain Games : 0.13537906137184114\n",
      "Casual;Action & Adventure : 0.13537906137184114\n",
      "Arcade;Action & Adventure : 0.12409747292418773\n",
      "Action;Action & Adventure : 0.10153429602888085\n",
      "Educational;Pretend Play : 0.09025270758122744\n",
      "Simulation;Action & Adventure : 0.078971119133574\n",
      "Parenting;Education : 0.078971119133574\n",
      "Entertainment;Brain Games : 0.078971119133574\n",
      "Board;Brain Games : 0.078971119133574\n",
      "Parenting;Music & Video : 0.06768953068592057\n",
      "Educational;Brain Games : 0.06768953068592057\n",
      "Casual;Creativity : 0.06768953068592057\n",
      "Art & Design;Creativity : 0.06768953068592057\n",
      "Education;Pretend Play : 0.056407942238267145\n",
      "Role Playing;Pretend Play : 0.04512635379061372\n",
      "Education;Creativity : 0.04512635379061372\n",
      "Role Playing;Action & Adventure : 0.033844765342960284\n",
      "Puzzle;Action & Adventure : 0.033844765342960284\n",
      "Entertainment;Creativity : 0.033844765342960284\n",
      "Entertainment;Action & Adventure : 0.033844765342960284\n",
      "Educational;Creativity : 0.033844765342960284\n",
      "Educational;Action & Adventure : 0.033844765342960284\n",
      "Education;Music & Video : 0.033844765342960284\n",
      "Education;Brain Games : 0.033844765342960284\n",
      "Education;Action & Adventure : 0.033844765342960284\n",
      "Adventure;Action & Adventure : 0.033844765342960284\n",
      "Video Players & Editors;Music & Video : 0.02256317689530686\n",
      "Sports;Action & Adventure : 0.02256317689530686\n",
      "Simulation;Pretend Play : 0.02256317689530686\n",
      "Puzzle;Creativity : 0.02256317689530686\n",
      "Music;Music & Video : 0.02256317689530686\n",
      "Entertainment;Pretend Play : 0.02256317689530686\n",
      "Casual;Education : 0.02256317689530686\n",
      "Board;Action & Adventure : 0.02256317689530686\n",
      "Video Players & Editors;Creativity : 0.01128158844765343\n",
      "Trivia;Education : 0.01128158844765343\n",
      "Travel & Local;Action & Adventure : 0.01128158844765343\n",
      "Tools;Education : 0.01128158844765343\n",
      "Strategy;Education : 0.01128158844765343\n",
      "Strategy;Creativity : 0.01128158844765343\n",
      "Strategy;Action & Adventure : 0.01128158844765343\n",
      "Simulation;Education : 0.01128158844765343\n",
      "Role Playing;Brain Games : 0.01128158844765343\n",
      "Racing;Pretend Play : 0.01128158844765343\n",
      "Puzzle;Education : 0.01128158844765343\n",
      "Parenting;Brain Games : 0.01128158844765343\n",
      "Music & Audio;Music & Video : 0.01128158844765343\n",
      "Lifestyle;Pretend Play : 0.01128158844765343\n",
      "Lifestyle;Education : 0.01128158844765343\n",
      "Health & Fitness;Education : 0.01128158844765343\n",
      "Health & Fitness;Action & Adventure : 0.01128158844765343\n",
      "Entertainment;Education : 0.01128158844765343\n",
      "Communication;Creativity : 0.01128158844765343\n",
      "Comics;Creativity : 0.01128158844765343\n",
      "Casual;Music & Video : 0.01128158844765343\n",
      "Card;Action & Adventure : 0.01128158844765343\n",
      "Books & Reference;Education : 0.01128158844765343\n",
      "Art & Design;Pretend Play : 0.01128158844765343\n",
      "Art & Design;Action & Adventure : 0.01128158844765343\n",
      "Arcade;Pretend Play : 0.01128158844765343\n",
      "Adventure;Education : 0.01128158844765343\n"
     ]
    }
   ],
   "source": [
    "display_table(android_final, -4) # Genre column"
   ]
  },
  {
   "cell_type": "markdown",
   "metadata": {},
   "source": [
    "The difference between the `Category` and the `Genres` column is not very clear, however we can see that the `Genres` columns has a lot more categories, it's more granular.\n",
    "\n",
    "The `Category` column is more practical for our analysis, we only need to see the big picture at the moment.\n",
    "\n",
    "To summarize the learnings, the App Store is dominated by apps for fun, whereas Google Play has a more balanced mix of practical and fun apps.\n",
    "\n",
    "Now let's find out which kind of apps have the most users.\n",
    "\n",
    "# Most popular apps by genre on the App Store\n",
    "\n",
    "One way to find out what genres have the most users is to calcualte the average number of installs for each app genre. However, this information is only available about the android apps. As a workaround, I will use the `rating_count_tot` column that contains the total number of user ratings.\n",
    "\n",
    "I will start by generating a frequency table for the `prime_genre` column to get the unique app genres of the App Store dataset."
   ]
  },
  {
   "cell_type": "code",
   "execution_count": 23,
   "metadata": {
    "collapsed": false
   },
   "outputs": [
    {
     "name": "stdout",
     "output_type": "stream",
     "text": [
      "Shopping : 26919.690476190477\n",
      "Music : 57326.530303030304\n",
      "Weather : 52279.892857142855\n",
      "Productivity : 21028.410714285714\n",
      "Navigation : 86090.33333333333\n",
      "Sports : 23008.898550724636\n",
      "Games : 22788.6696905016\n",
      "News : 21248.023255813954\n",
      "Food & Drink : 33333.92307692308\n",
      "Education : 7003.983050847458\n",
      "Social Networking : 71548.34905660378\n",
      "Business : 7491.117647058823\n",
      "Lifestyle : 16485.764705882353\n",
      "Entertainment : 14029.830708661417\n",
      "Photo & Video : 28441.54375\n",
      "Utilities : 18684.456790123455\n",
      "Reference : 74942.11111111111\n",
      "Book : 39758.5\n",
      "Finance : 31467.944444444445\n",
      "Medical : 612.0\n",
      "Travel : 28243.8\n",
      "Catalogs : 4004.0\n",
      "Health & Fitness : 23298.015384615384\n"
     ]
    }
   ],
   "source": [
    "genres_ios = freq_table(ios_final, -5) # frequency table about prime_genre\n",
    "\n",
    "for genre in genres_ios:\n",
    "    total = 0 # variable to store the sum of user ratings\n",
    "    len_genre = 0 # variable to store the number of apps specific to each genre\n",
    "    for app in ios_final:\n",
    "        genre_app = app[-5]\n",
    "        if genre_app == genre:\n",
    "            n_ratings = float(app[5])\n",
    "            total += n_ratings\n",
    "            len_genre += 1\n",
    "    avg_rating = total / len_genre\n",
    "    print(genre, \":\", avg_rating)"
   ]
  },
  {
   "cell_type": "markdown",
   "metadata": {},
   "source": [
    "The most popular categories are: Navigation, Reference, Social Networking and Music. If we explore these categories a bit, we will see that the number of ratings are heavily influenced by a few extra-popular apps that have 100,000+ ratings while the others struggle to get past the 10,000 threshold."
   ]
  },
  {
   "cell_type": "code",
   "execution_count": 24,
   "metadata": {
    "collapsed": false
   },
   "outputs": [
    {
     "name": "stdout",
     "output_type": "stream",
     "text": [
      "Waze - GPS Navigation, Maps & Real-time Traffic 345046\n",
      "Google Maps - Navigation & Transit 154911\n",
      "Geocaching® 12811\n",
      "CoPilot GPS – Car Navigation & Offline Maps 3582\n",
      "ImmobilienScout24: Real Estate Search in Germany 187\n",
      "Railway Route Search 5\n"
     ]
    }
   ],
   "source": [
    "for app in ios_final:\n",
    "    if app[-5] == \"Navigation\":\n",
    "        print(app[1], app[5])"
   ]
  },
  {
   "cell_type": "markdown",
   "metadata": {},
   "source": [
    "The Navigation category is dominated by 2 main players: Waze and Google Maps, the others have insignificant numbers so altogether it's not a popular category, I wouldn't recommend my imaginary company to develop Navigation apps."
   ]
  },
  {
   "cell_type": "code",
   "execution_count": 25,
   "metadata": {
    "collapsed": false
   },
   "outputs": [
    {
     "name": "stdout",
     "output_type": "stream",
     "text": [
      "Bible 985920\n",
      "Dictionary.com Dictionary & Thesaurus 200047\n",
      "Dictionary.com Dictionary & Thesaurus for iPad 54175\n",
      "Google Translate 26786\n",
      "Muslim Pro: Ramadan 2017 Prayer Times, Azan, Quran 18418\n",
      "New Furniture Mods - Pocket Wiki & Game Tools for Minecraft PC Edition 17588\n",
      "Merriam-Webster Dictionary 16849\n",
      "Night Sky 12122\n",
      "City Maps for Minecraft PE - The Best Maps for Minecraft Pocket Edition (MCPE) 8535\n",
      "LUCKY BLOCK MOD ™ for Minecraft PC Edition - The Best Pocket Wiki & Mods Installer Tools 4693\n",
      "GUNS MODS for Minecraft PC Edition - Mods Tools 1497\n",
      "Guides for Pokémon GO - Pokemon GO News and Cheats 826\n",
      "WWDC 762\n",
      "Horror Maps for Minecraft PE - Download The Scariest Maps for Minecraft Pocket Edition (MCPE) Free 718\n",
      "VPN Express 14\n",
      "Real Bike Traffic Rider Virtual Reality Glasses 8\n",
      "教えて!goo 0\n",
      "Jishokun-Japanese English Dictionary & Translator 0\n"
     ]
    }
   ],
   "source": [
    "for app in ios_final:\n",
    "    if app[-5] == \"Reference\":\n",
    "        print(app[1], app[5])"
   ]
  },
  {
   "cell_type": "markdown",
   "metadata": {},
   "source": [
    "The number 1 player in the Reference category is the Bible, followed by dictionaries and online game manuals. It can be an interesting idea to check the reviews of these apps and try to come up with a new app that is about religion or dictionary infused with some fun features, such as day or quote of the day, quizes, seeing what other people highlight while reading etc."
   ]
  },
  {
   "cell_type": "code",
   "execution_count": 26,
   "metadata": {
    "collapsed": false
   },
   "outputs": [
    {
     "name": "stdout",
     "output_type": "stream",
     "text": [
      "Facebook 2974676\n",
      "Pinterest 1061624\n",
      "Skype for iPhone 373519\n",
      "Messenger 351466\n",
      "Tumblr 334293\n",
      "WhatsApp Messenger 287589\n",
      "Kik 260965\n",
      "ooVoo – Free Video Call, Text and Voice 177501\n",
      "TextNow - Unlimited Text + Calls 164963\n",
      "Viber Messenger – Text & Call 164249\n",
      "Followers - Social Analytics For Instagram 112778\n",
      "MeetMe - Chat and Meet New People 97072\n",
      "We Heart It - Fashion, wallpapers, quotes, tattoos 90414\n",
      "InsTrack for Instagram - Analytics Plus More 85535\n",
      "Tango - Free Video Call, Voice and Chat 75412\n",
      "LinkedIn 71856\n",
      "Match™ - #1 Dating App. 60659\n",
      "Skype for iPad 60163\n",
      "POF - Best Dating App for Conversations 52642\n",
      "Timehop 49510\n",
      "Find My Family, Friends & iPhone - Life360 Locator 43877\n",
      "Whisper - Share, Express, Meet 39819\n",
      "Hangouts 36404\n",
      "LINE PLAY - Your Avatar World 34677\n",
      "WeChat 34584\n",
      "Badoo - Meet New People, Chat, Socialize. 34428\n",
      "Followers + for Instagram - Follower Analytics 28633\n",
      "GroupMe 28260\n",
      "Marco Polo Video Walkie Talkie 27662\n",
      "Miitomo 23965\n",
      "SimSimi 23530\n",
      "Grindr - Gay and same sex guys chat, meet and date 23201\n",
      "Wishbone - Compare Anything 20649\n",
      "imo video calls and chat 18841\n",
      "After School - Funny Anonymous School News 18482\n",
      "Quick Reposter - Repost, Regram and Reshare Photos 17694\n",
      "Weibo HD 16772\n",
      "Repost for Instagram 15185\n",
      "Live.me – Live Video Chat & Make Friends Nearby 14724\n",
      "Nextdoor 14402\n",
      "Followers Analytics for Instagram - InstaReport 13914\n",
      "YouNow: Live Stream Video Chat 12079\n",
      "FollowMeter for Instagram - Followers Tracking 11976\n",
      "LINE 11437\n",
      "eHarmony™ Dating App - Meet Singles 11124\n",
      "Discord - Chat for Gamers 9152\n",
      "QQ 9109\n",
      "Telegram Messenger 7573\n",
      "Weibo 7265\n",
      "Periscope - Live Video Streaming Around the World 6062\n",
      "Chat for Whatsapp - iPad Version 5060\n",
      "QQ HD 5058\n",
      "Followers Analysis Tool For Instagram App Free 4253\n",
      "live.ly - live video streaming 4145\n",
      "Houseparty - Group Video Chat 3991\n",
      "SOMA Messenger 3232\n",
      "Monkey 3060\n",
      "Down To Lunch 2535\n",
      "Flinch - Video Chat Staring Contest 2134\n",
      "Highrise - Your Avatar Community 2011\n",
      "LOVOO - Dating Chat 1985\n",
      "PlayStation®Messages 1918\n",
      "BOO! - Video chat camera with filters & stickers 1805\n",
      "Qzone 1649\n",
      "Chatous - Chat with new people 1609\n",
      "Kiwi - Q&A 1538\n",
      "GhostCodes - a discovery app for Snapchat 1313\n",
      "Jodel 1193\n",
      "FireChat 1037\n",
      "Google Duo - simple video calling 1033\n",
      "Fiesta by Tango - Chat & Meet New People 885\n",
      "Google Allo — smart messaging 862\n",
      "Peach — share vividly 727\n",
      "Hey! VINA - Where Women Meet New Friends 719\n",
      "Battlefield™ Companion 689\n",
      "All Devices for WhatsApp - Messenger for iPad 682\n",
      "Chat for Pokemon Go - GoChat 500\n",
      "IAmNaughty – Dating App to Meet New People Online 463\n",
      "Qzone HD 458\n",
      "Zenly - Locate your friends in realtime 427\n",
      "League of Legends Friends 420\n",
      "豆瓣 407\n",
      "Candid - Speak Your Mind Freely 398\n",
      "知乎 397\n",
      "Selfeo 366\n",
      "Fake-A-Location Free ™ 354\n",
      "Popcorn Buzz - Free Group Calls 281\n",
      "Fam — Group video calling for iMessage 279\n",
      "QQ International 274\n",
      "Ameba 269\n",
      "SoundCloud Pulse: for creators 240\n",
      "Tantan 235\n",
      "Cougar Dating & Life Style App for Mature Women 213\n",
      "Rawr Messenger - Dab your chat 180\n",
      "WhenToPost: Best Time to Post Photos for Instagram 158\n",
      "Inke—Broadcast an amazing life 147\n",
      "Mustknow - anonymous video Q&A 53\n",
      "CTFxCmoji 39\n",
      "Lobi 36\n",
      "Chain: Collaborate On MyVideo Story/Group Video 35\n",
      "botman - Real time video chat 7\n",
      "BestieBox 0\n",
      "MATCH ON LINE chat 0\n",
      "niconico ch 0\n",
      "LINE BLOG 0\n",
      "bit-tube - Live Stream Video Chat 0\n"
     ]
    }
   ],
   "source": [
    "for app in ios_final:\n",
    "    if app[-5] == \"Social Networking\":\n",
    "        print(app[1], app[5])"
   ]
  },
  {
   "cell_type": "markdown",
   "metadata": {},
   "source": [
    "The data shows that the market of the Social Networking apps is also not balanced, a few giant players have more ratings in total individually than the rest of the apps together. It would be hard to compete with them but I think there's still market for niche networking apps, for example an app that connects students or career changers who would like to know more about the field that they are interested from someone who already works in that profession and is willing to answer questions or mentor the newbie.\n",
    "\n",
    "Now let's analyze the Google Play market a bit.\n",
    "\n",
    "# Most popular apps by genre on Google Play\n",
    "\n",
    "In case of the App Store I had to come up with recommendations based on the number of user ratings. Luckily, I have data about the number of installs for the Google Play apps so I can have a clearer picture about the genre popularity.\n",
    "\n",
    "The only issue is that the install numbers are open-ended:"
   ]
  },
  {
   "cell_type": "code",
   "execution_count": 27,
   "metadata": {
    "collapsed": false
   },
   "outputs": [
    {
     "name": "stdout",
     "output_type": "stream",
     "text": [
      "1,000,000+ : 15.726534296028879\n",
      "100,000+ : 11.552346570397113\n",
      "10,000,000+ : 10.548285198555957\n",
      "10,000+ : 10.198555956678701\n",
      "1,000+ : 8.393501805054152\n",
      "100+ : 6.915613718411552\n",
      "5,000,000+ : 6.825361010830325\n",
      "500,000+ : 5.561823104693141\n",
      "50,000+ : 4.7721119133574\n",
      "5,000+ : 4.512635379061372\n",
      "10+ : 3.5424187725631766\n",
      "500+ : 3.2490974729241873\n",
      "50,000,000+ : 2.3014440433213\n",
      "100,000,000+ : 2.1322202166064983\n",
      "50+ : 1.917870036101083\n",
      "5+ : 0.78971119133574\n",
      "1+ : 0.5076714801444043\n",
      "500,000,000+ : 0.2707581227436823\n",
      "1,000,000,000+ : 0.22563176895306858\n",
      "0+ : 0.04512635379061372\n",
      "0 : 0.01128158844765343\n"
     ]
    }
   ],
   "source": [
    "display_table(android_final, 5) # installs column"
   ]
  },
  {
   "cell_type": "markdown",
   "metadata": {},
   "source": [
    "I don't need perfect precision about the number of users, these ranges are good enough for my comparison. \n",
    "\n",
    "I will leave the numbers as they are, which means I'll consider that an app with 100+ installs has 100 installs, and an app with 5,000+ installs has 5,000 installs and so on. \n",
    "\n",
    "I will need to convert the strings to floats: removing the commas and the plus signs. After that I will calculate the average number of installs."
   ]
  },
  {
   "cell_type": "code",
   "execution_count": 28,
   "metadata": {
    "collapsed": false
   },
   "outputs": [
    {
     "name": "stdout",
     "output_type": "stream",
     "text": [
      "SPORTS  :  3638640.1428571427\n",
      "EDUCATION  :  1833495.145631068\n",
      "NEWS_AND_MAGAZINES  :  9549178.467741935\n",
      "HEALTH_AND_FITNESS  :  4188821.9853479853\n",
      "AUTO_AND_VEHICLES  :  647317.8170731707\n",
      "MAPS_AND_NAVIGATION  :  4056941.7741935486\n",
      "BOOKS_AND_REFERENCE  :  8767811.894736841\n",
      "FAMILY  :  3695641.8198090694\n",
      "VIDEO_PLAYERS  :  24727872.452830188\n",
      "TRAVEL_AND_LOCAL  :  13984077.710144928\n",
      "FINANCE  :  1387692.475609756\n",
      "DATING  :  854028.8303030303\n",
      "EVENTS  :  253542.22222222222\n",
      "LIFESTYLE  :  1437816.2687861272\n",
      "PERSONALIZATION  :  5201482.6122448975\n",
      "COMMUNICATION  :  38456119.167247385\n",
      "GAME  :  15588015.603248259\n",
      "SHOPPING  :  7036877.311557789\n",
      "MEDICAL  :  120550.61980830671\n",
      "LIBRARIES_AND_DEMO  :  638503.734939759\n",
      "BUSINESS  :  1712290.1474201474\n",
      "HOUSE_AND_HOME  :  1331540.5616438356\n",
      "ENTERTAINMENT  :  11640705.88235294\n",
      "PRODUCTIVITY  :  16787331.344927534\n",
      "FOOD_AND_DRINK  :  1924897.7363636363\n",
      "SOCIAL  :  23253652.127118643\n",
      "COMICS  :  817657.2727272727\n",
      "ART_AND_DESIGN  :  1986335.0877192982\n",
      "BEAUTY  :  513151.88679245283\n",
      "PARENTING  :  542603.6206896552\n",
      "WEATHER  :  5074486.197183099\n",
      "TOOLS  :  10801391.298666667\n",
      "PHOTOGRAPHY  :  17840110.40229885\n"
     ]
    }
   ],
   "source": [
    "categories_android = freq_table(android_final, 1)\n",
    "\n",
    "for category in categories_android:\n",
    "    total = 0 # variable to store the sum of installs specific to each genre\n",
    "    len_category = 0 # variable to store the number of apps specific to each genre\n",
    "    for app in android_final:\n",
    "        category_app = app[1]\n",
    "        if category_app == category:\n",
    "            n_installs = app[5]\n",
    "            n_installs = n_installs.replace(',', '')\n",
    "            n_installs = n_installs.replace('+', '')\n",
    "            total += float(n_installs)\n",
    "            len_category += 1\n",
    "            \n",
    "    avg_installs = (total / len_category)\n",
    "    print(category, \" : \", avg_installs)"
   ]
  },
  {
   "cell_type": "markdown",
   "metadata": {},
   "source": [
    "The most popular category is the Communication with 38 million installs but again, it's heavily influenced by a few giants:"
   ]
  },
  {
   "cell_type": "code",
   "execution_count": 29,
   "metadata": {
    "collapsed": false
   },
   "outputs": [
    {
     "name": "stdout",
     "output_type": "stream",
     "text": [
      "WhatsApp Messenger : 1,000,000,000+\n",
      "Messenger – Text and Video Chat for Free : 1,000,000,000+\n",
      "Skype - free IM & video calls : 1,000,000,000+\n",
      "Google Chrome: Fast & Secure : 1,000,000,000+\n",
      "Gmail : 1,000,000,000+\n",
      "Hangouts : 1,000,000,000+\n"
     ]
    }
   ],
   "source": [
    "for app in android_final:\n",
    "    if app[1] == 'COMMUNICATION' and app[5] == '1,000,000,000+':\n",
    "        print(app[0], \":\", app[5])"
   ]
  },
  {
   "cell_type": "markdown",
   "metadata": {},
   "source": [
    "If I remove the apps that have over 100 million installs, the average will shrink roughly 10 times:"
   ]
  },
  {
   "cell_type": "code",
   "execution_count": 30,
   "metadata": {
    "collapsed": false
   },
   "outputs": [
    {
     "name": "stdout",
     "output_type": "stream",
     "text": [
      "3603485.3884615386\n"
     ]
    }
   ],
   "source": [
    "under_100m = []\n",
    "\n",
    "for app in android_final:\n",
    "    n_installs = app[5]\n",
    "    n_installs = n_installs.replace(',', '')\n",
    "    n_installs = n_installs.replace('+', '')\n",
    "    if (app[1] == 'COMMUNICATION') and (float(n_installs) < 100000000):\n",
    "        under_100m.append(float(n_installs))\n",
    "print(sum(under_100m) / len(under_100m))    "
   ]
  },
  {
   "cell_type": "markdown",
   "metadata": {},
   "source": [
    "We can see the same pattern for the categories that are next in line:\n",
    "\n",
    "* Video players: Youtube, Google Play Movies & TV\n",
    "* Social: Facebook, Instagram, Google+\n",
    "* Productivity: Microsoft Word, Dropbox, Google Calendar\n",
    "\n",
    "The problem is that these few popular apps can mislead us in judging how popular their category really is, moreover it's hard to compete against the giants.\n",
    "\n",
    "The Books and Reference category seems popular on Google Play too, as my goal is to recommend an app genre that has potential on IOS too, it makes sense to explore it:"
   ]
  },
  {
   "cell_type": "code",
   "execution_count": 31,
   "metadata": {
    "collapsed": false
   },
   "outputs": [
    {
     "name": "stdout",
     "output_type": "stream",
     "text": [
      "E-Book Read - Read Book for free : 50,000+\n",
      "Download free book with green book : 100,000+\n",
      "Wikipedia : 10,000,000+\n",
      "Cool Reader : 10,000,000+\n",
      "Free Panda Radio Music : 100,000+\n",
      "Book store : 1,000,000+\n",
      "FBReader: Favorite Book Reader : 10,000,000+\n",
      "English Grammar Complete Handbook : 500,000+\n",
      "Free Books - Spirit Fanfiction and Stories : 1,000,000+\n",
      "Google Play Books : 1,000,000,000+\n",
      "AlReader -any text book reader : 5,000,000+\n",
      "Offline English Dictionary : 100,000+\n",
      "Offline: English to Tagalog Dictionary : 500,000+\n",
      "FamilySearch Tree : 1,000,000+\n",
      "Cloud of Books : 1,000,000+\n",
      "Recipes of Prophetic Medicine for free : 500,000+\n",
      "ReadEra – free ebook reader : 1,000,000+\n",
      "Anonymous caller detection : 10,000+\n",
      "Ebook Reader : 5,000,000+\n",
      "Litnet - E-books : 100,000+\n",
      "Read books online : 5,000,000+\n",
      "English to Urdu Dictionary : 500,000+\n",
      "eBoox: book reader fb2 epub zip : 1,000,000+\n",
      "English Persian Dictionary : 500,000+\n",
      "Flybook : 500,000+\n",
      "All Maths Formulas : 1,000,000+\n",
      "Ancestry : 5,000,000+\n",
      "HTC Help : 10,000,000+\n",
      "English translation from Bengali : 100,000+\n",
      "Pdf Book Download - Read Pdf Book : 100,000+\n",
      "Free Book Reader : 100,000+\n",
      "eBoox new: Reader for fb2 epub zip books : 50,000+\n",
      "Only 30 days in English, the guideline is guaranteed : 500,000+\n",
      "Moon+ Reader : 10,000,000+\n",
      "SH-02J Owner's Manual (Android 8.0) : 50,000+\n",
      "English-Myanmar Dictionary : 1,000,000+\n",
      "Golden Dictionary (EN-AR) : 1,000,000+\n",
      "All Language Translator Free : 1,000,000+\n",
      "Azpen eReader : 500,000+\n",
      "URBANO V 02 instruction manual : 100,000+\n",
      "Bible : 100,000,000+\n",
      "C Programs and Reference : 50,000+\n",
      "C Offline Tutorial : 1,000+\n",
      "C Programs Handbook : 50,000+\n",
      "Amazon Kindle : 100,000,000+\n",
      "Aab e Hayat Full Novel : 100,000+\n",
      "Aldiko Book Reader : 10,000,000+\n",
      "Google I/O 2018 : 500,000+\n",
      "R Language Reference Guide : 10,000+\n",
      "Learn R Programming Full : 5,000+\n",
      "R Programing Offline Tutorial : 1,000+\n",
      "Guide for R Programming : 5+\n",
      "Learn R Programming : 10+\n",
      "R Quick Reference Big Data : 1,000+\n",
      "V Made : 100,000+\n",
      "Wattpad 📖 Free Books : 100,000,000+\n",
      "Dictionary - WordWeb : 5,000,000+\n",
      "Guide (for X-MEN) : 100,000+\n",
      "AC Air condition Troubleshoot,Repair,Maintenance : 5,000+\n",
      "AE Bulletins : 1,000+\n",
      "Ae Allah na Dai (Rasa) : 10,000+\n",
      "50000 Free eBooks & Free AudioBooks : 5,000,000+\n",
      "Ag PhD Field Guide : 10,000+\n",
      "Ag PhD Deficiencies : 10,000+\n",
      "Ag PhD Planting Population Calculator : 1,000+\n",
      "Ag PhD Soybean Diseases : 1,000+\n",
      "Fertilizer Removal By Crop : 50,000+\n",
      "A-J Media Vault : 50+\n",
      "Al-Quran (Free) : 10,000,000+\n",
      "Al Quran (Tafsir & by Word) : 500,000+\n",
      "Al Quran Indonesia : 10,000,000+\n",
      "Al'Quran Bahasa Indonesia : 10,000,000+\n",
      "Al Quran Al karim : 1,000,000+\n",
      "Al-Muhaffiz : 50,000+\n",
      "Al Quran : EAlim - Translations & MP3 Offline : 5,000,000+\n",
      "Al-Quran 30 Juz free copies : 500,000+\n",
      "Koran Read &MP3 30 Juz Offline : 1,000,000+\n",
      "Hafizi Quran 15 lines per page : 1,000,000+\n",
      "Quran for Android : 10,000,000+\n",
      "Surah Al-Waqiah : 100,000+\n",
      "Hisnul Al Muslim - Hisn Invocations & Adhkaar : 100,000+\n",
      "Satellite AR : 1,000,000+\n",
      "Audiobooks from Audible : 100,000,000+\n",
      "Kinot & Eichah for Tisha B'Av : 10,000+\n",
      "AW Tozer Devotionals - Daily : 5,000+\n",
      "Tozer Devotional -Series 1 : 1,000+\n",
      "The Pursuit of God : 1,000+\n",
      "AY Sing : 5,000+\n",
      "Ay Hasnain k Nana Milad Naat : 10,000+\n",
      "Ay Mohabbat Teri Khatir Novel : 10,000+\n",
      "Arizona Statutes, ARS (AZ Law) : 1,000+\n",
      "Oxford A-Z of English Usage : 1,000,000+\n",
      "BD Fishpedia : 1,000+\n",
      "BD All Sim Offer : 10,000+\n",
      "Youboox - Livres, BD et magazines : 500,000+\n",
      "B&H Kids AR : 10,000+\n",
      "B y H Niños ES : 5,000+\n",
      "Dictionary.com: Find Definitions for English Words : 10,000,000+\n",
      "English Dictionary - Offline : 10,000,000+\n",
      "Bible KJV : 5,000,000+\n",
      "Borneo Bible, BM Bible : 10,000+\n",
      "MOD Black for BM : 100+\n",
      "BM Box : 1,000+\n",
      "Anime Mod for BM : 100+\n",
      "NOOK: Read eBooks & Magazines : 10,000,000+\n",
      "NOOK Audiobooks : 500,000+\n",
      "NOOK App for NOOK Devices : 500,000+\n",
      "Browsery by Barnes & Noble : 5,000+\n",
      "bp e-store : 1,000+\n",
      "Brilliant Quotes: Life, Love, Family & Motivation : 1,000,000+\n",
      "BR Ambedkar Biography & Quotes : 10,000+\n",
      "BU Alsace : 100+\n",
      "Catholic La Bu Zo Kam : 500+\n",
      "Khrifa Hla Bu (Solfa) : 10+\n",
      "Kristian Hla Bu : 10,000+\n",
      "SA HLA BU : 1,000+\n",
      "Learn SAP BW : 500+\n",
      "Learn SAP BW on HANA : 500+\n",
      "CA Laws 2018 (California Laws and Codes) : 5,000+\n",
      "Bootable Methods(USB-CD-DVD) : 10,000+\n",
      "cloudLibrary : 100,000+\n",
      "SDA Collegiate Quarterly : 500+\n",
      "Sabbath School : 100,000+\n",
      "Cypress College Library : 100+\n",
      "Stats Royale for Clash Royale : 1,000,000+\n",
      "GATE 21 years CS Papers(2011-2018 Solved) : 50+\n",
      "Learn CT Scan Of Head : 5,000+\n",
      "Easy Cv maker 2018 : 10,000+\n",
      "How to Write CV : 100,000+\n",
      "CW Nuclear : 1,000+\n",
      "CY Spray nozzle : 10+\n",
      "BibleRead En Cy Zh Yue : 5+\n",
      "CZ-Help : 5+\n",
      "Modlitební knížka CZ : 500+\n",
      "Guide for DB Xenoverse : 10,000+\n",
      "Guide for DB Xenoverse 2 : 10,000+\n",
      "Guide for IMS DB : 10+\n",
      "DC HSEMA : 5,000+\n",
      "DC Public Library : 1,000+\n",
      "Painting Lulu DC Super Friends : 1,000+\n",
      "Dictionary : 10,000,000+\n",
      "Fix Error Google Playstore : 1,000+\n",
      "D. H. Lawrence Poems FREE : 1,000+\n",
      "Bilingual Dictionary Audio App : 5,000+\n",
      "DM Screen : 10,000+\n",
      "wikiHow: how to do anything : 1,000,000+\n",
      "Dr. Doug's Tips : 1,000+\n",
      "Bible du Semeur-BDS (French) : 50,000+\n",
      "La citadelle du musulman : 50,000+\n",
      "DV 2019 Entry Guide : 10,000+\n",
      "DV 2019 - EDV Photo & Form : 50,000+\n",
      "DV 2018 Winners Guide : 1,000+\n",
      "EB Annual Meetings : 1,000+\n",
      "EC - AP & Telangana : 5,000+\n",
      "TN Patta Citta & EC : 10,000+\n",
      "AP Stamps and Registration : 10,000+\n",
      "CompactiMa EC pH Calibration : 100+\n",
      "EGW Writings 2 : 100,000+\n",
      "EGW Writings : 1,000,000+\n",
      "Bible with EGW Comments : 100,000+\n",
      "My Little Pony AR Guide : 1,000,000+\n",
      "SDA Sabbath School Quarterly : 500,000+\n",
      "Duaa Ek Ibaadat : 5,000+\n",
      "Spanish English Translator : 10,000,000+\n",
      "Dictionary - Merriam-Webster : 10,000,000+\n",
      "JW Library : 10,000,000+\n",
      "Oxford Dictionary of English : Free : 10,000,000+\n",
      "English Hindi Dictionary : 10,000,000+\n",
      "English to Hindi Dictionary : 5,000,000+\n",
      "EP Research Service : 1,000+\n",
      "Hymnes et Louanges : 100,000+\n",
      "EU Charter : 1,000+\n",
      "EU Data Protection : 1,000+\n",
      "EU IP Codes : 100+\n",
      "EW PDF : 5+\n",
      "BakaReader EX : 100,000+\n",
      "EZ Quran : 50,000+\n",
      "FA Part 1 & 2 Past Papers Solved Free – Offline : 5,000+\n",
      "La Fe de Jesus : 1,000+\n",
      "La Fe de Jesús : 500+\n",
      "Le Fe de Jesus : 500+\n",
      "Florida - Pocket Brainbook : 1,000+\n",
      "Florida Statutes (FL Code) : 1,000+\n",
      "English To Shona Dictionary : 10,000+\n",
      "Greek Bible FP (Audio) : 1,000+\n",
      "Golden Dictionary (FR-AR) : 500,000+\n",
      "Fanfic-FR : 5,000+\n",
      "Bulgarian French Dictionary Fr : 10,000+\n",
      "Chemin (fr) : 1,000+\n",
      "The SCP Foundation DB fr nn5n : 1,000+\n"
     ]
    }
   ],
   "source": [
    "for app in android_final:\n",
    "    if app[1] == 'BOOKS_AND_REFERENCE':\n",
    "        print(app[0], \":\", app[5])"
   ]
  },
  {
   "cell_type": "markdown",
   "metadata": {},
   "source": [
    "The books are mostly dictionaries, e-books, software development manuals, the Bible and the Quran are fairly popular too so the idea I had after the IOS analysis still makes sense.\n",
    "\n",
    "Let's look at the Social category by listing the medium-popular apps:"
   ]
  },
  {
   "cell_type": "code",
   "execution_count": 33,
   "metadata": {
    "collapsed": false
   },
   "outputs": [
    {
     "name": "stdout",
     "output_type": "stream",
     "text": [
      "TextNow - free text + calls : 10,000,000+\n",
      "The Messenger App : 1,000,000+\n",
      "Messenger Pro : 1,000,000+\n",
      "Free Messages, Video, Chat,Text for Messenger Plus : 1,000,000+\n",
      "Telegram X : 5,000,000+\n",
      "Jodel - The Hyperlocal App : 1,000,000+\n",
      "Hide Something - Photo, Video : 5,000,000+\n",
      "Love Sticker : 1,000,000+\n",
      "Web Browser & Fast Explorer : 5,000,000+\n",
      "LiveMe - Video chat, new friends, and make money : 10,000,000+\n",
      "VidStatus app - Status Videos & Status Downloader : 5,000,000+\n",
      "Love Images : 1,000,000+\n",
      "SPARK - Live random video chat & meet new people : 5,000,000+\n",
      "Facebook Local : 1,000,000+\n",
      "Meet – Talk to Strangers Using Random Video Chat : 5,000,000+\n",
      "MobilePatrol Public Safety App : 1,000,000+\n",
      "💘 WhatsLov: Smileys of love, stickers and GIF : 1,000,000+\n",
      "HTC Social Plugin - Facebook : 10,000,000+\n",
      "Quora : 10,000,000+\n",
      "Kate Mobile for VK : 10,000,000+\n",
      "Family GPS tracker KidControl + GPS by SMS Locator : 1,000,000+\n",
      "Moment : 1,000,000+\n",
      "Text Me: Text Free, Call Free, Second Phone Number : 10,000,000+\n",
      "Text Free: WiFi Calling App : 5,000,000+\n",
      "Text free - Free Text + Call : 10,000,000+\n",
      "ooVoo Video Calls, Messaging & Stories : 50,000,000+\n",
      "Whisper : 5,000,000+\n",
      "Blogger : 5,000,000+\n",
      "TwitCasting Live : 1,000,000+\n",
      "YouNow: Live Stream Video Chat : 10,000,000+\n",
      "Banjo : 1,000,000+\n",
      "We Heart It : 10,000,000+\n",
      "MeetMe: Chat & Meet New People : 50,000,000+\n",
      "Timehop : 5,000,000+\n",
      "Frontback - Social Photos : 1,000,000+\n",
      "Path : 10,000,000+\n",
      "SayHi Chat, Meet New People : 10,000,000+\n",
      "Tapatalk - 100,000+ Forums : 10,000,000+\n",
      "Couple - Relationship App : 1,000,000+\n",
      "Nextdoor - Local neighborhood news & classifieds : 5,000,000+\n",
      "LOVOO : 10,000,000+\n",
      "Jaumo Dating, Flirt & Live Video : 10,000,000+\n",
      "Zello PTT Walkie Talkie : 50,000,000+\n",
      "textPlus: Free Text & Calls : 10,000,000+\n",
      "magicApp Calling & Messaging : 10,000,000+\n",
      "Dating App, Flirt & Chat : W-Match : 10,000,000+\n",
      "Meetup : 5,000,000+\n",
      "POF Free Dating App : 50,000,000+\n",
      "Tagged - Meet, Chat & Dating : 10,000,000+\n",
      "SKOUT - Meet, Chat, Go Live : 50,000,000+\n",
      "Mico- Stranger Chat Random video Chat, Live, Meet : 10,000,000+\n",
      "Waplog - Free Chat, Dating App, Meet Singles : 10,000,000+\n",
      "B-Messenger Video Chat : 1,000,000+\n",
      "Instachat 😜 : 5,000,000+\n",
      "Fame Boom for Real Followers, Likes : 5,000,000+\n",
      "FollowMeter for Instagram : 1,000,000+\n",
      "pixiv : 1,000,000+\n",
      "U LIVE – Video Chat & Stream : 1,000,000+\n",
      "VMate Lite - Funny Short Videos Social Network : 1,000,000+\n",
      "Legend - Animate Text in Video : 10,000,000+\n",
      "GUYZ - Gay Chat & Gay Dating : 1,000,000+\n",
      "Snaappy – 3D fun AR core communication platform : 1,000,000+\n",
      "Find My Friends : 10,000,000+\n",
      "Grindr - Gay chat : 10,000,000+\n",
      "Lesbian Chat & Dating - SPICY : 1,000,000+\n",
      "BOO! - Next Generation Messenger : 1,000,000+\n",
      "Wishbone - Compare Anything : 1,000,000+\n",
      "Fiesta by Tango - Find, Meet and Make New Friends : 1,000,000+\n",
      "Periscope - Live Video : 10,000,000+\n",
      "Free phone calls, free texting SMS on free number : 10,000,000+\n",
      "Phone Tracker : Family Locator : 10,000,000+\n",
      "HOLLA Live: Meet New People via Random Video Chat : 5,000,000+\n",
      "+Download 4 Instagram Twitter : 1,000,000+\n",
      "Hornet - Gay Social Network : 5,000,000+\n",
      "Amino: Communities and Chats : 10,000,000+\n",
      "EZ Video Download for Facebook : 1,000,000+\n",
      "Messages, Text and Video Chat for Messenger : 10,000,000+\n",
      "All Social Networks : 1,000,000+\n",
      "Messenger Messenger : 10,000,000+\n",
      "Facebook Creator : 1,000,000+\n",
      "Friendly for Facebook : 1,000,000+\n",
      "Faster for Facebook Lite : 1,000,000+\n",
      "Messenger : 10,000,000+\n",
      "Who Viewed My Facebook Profile - Stalkers Visitors : 5,000,000+\n",
      "Stickers for Facebook : 1,000,000+\n",
      "FunForMobile Ringtones & Chat : 5,000,000+\n",
      "Frim: get new friends on local chat rooms : 5,000,000+\n"
     ]
    }
   ],
   "source": [
    "for app in android_final:\n",
    "    if app[1] == 'SOCIAL' and (app[5] == '1,000,000+'\n",
    "                                or app[5] == '5,000,000+'\n",
    "                                or app[5] == '10,000,000+'\n",
    "                                or app[5] == '50,000,000+'):\n",
    "        print(app[0], \":\", app[5])"
   ]
  },
  {
   "cell_type": "markdown",
   "metadata": {},
   "source": [
    "Developing a social app still seems to be a valid idea, there are plenty of apps in this genre that were installed by millions of people, there's space for new social apps. I can even foresee work blog posts that would help people to decide which career suits them: the professionals could update their feed with photos about their daily job, small stories about accomplishments or stressful situations at work etc., we could even engage enterprises to use our app for employer branding.\n",
    "\n",
    "# Conclusions\n",
    "\n",
    "In this project, I analyzed data about Google Play and App Store mobile apps with the purpose of finding an app profile that can be profitable to develop for both markets.\n",
    "\n",
    "My conclusion was to focus on the Books and Social genres."
   ]
  }
 ],
 "metadata": {
  "kernelspec": {
   "display_name": "Python 3",
   "language": "python",
   "name": "python3"
  },
  "language_info": {
   "codemirror_mode": {
    "name": "ipython",
    "version": 3
   },
   "file_extension": ".py",
   "mimetype": "text/x-python",
   "name": "python",
   "nbconvert_exporter": "python",
   "pygments_lexer": "ipython3",
   "version": "3.4.3"
  }
 },
 "nbformat": 4,
 "nbformat_minor": 2
}
